{
 "cells": [
  {
    feature/DataSplitting
   "cell_type": "markdown",
   "id": "ac826540",
   "metadata": {},
   "source": [
    "**Data Splitting"
   ]
  },
  {
   "cell_type": "markdown",
   "id": "af8d57f1",
   "metadata": {},
   "source": [
    "Import Statements"
   ]
  },
  {
   "cell_type": "code",
   "execution_count": 2,
   "id": "f9ed2d0e",
   "metadata": {},
   "outputs": [],
   "source": [
    "import pandas as pd\n",
    "from sklearn.model_selection import train_test_split"
   ]
  },
  {
   "cell_type": "markdown",
   "id": "14cd90d2",
   "metadata": {},
   "source": [
    "Loading the Dataset"
   ]
  },
  {
   "cell_type": "code",
   "execution_count": 5,
   "id": "69684307",
   "metadata": {},
   "outputs": [
    {
     "name": "stdout",
     "output_type": "stream",
     "text": [
      "             Number of garages  Presence of open sewage  Number of industries  \\\n",
      "Location-Id                                                                     \n",
      "70                         873                        1                    17   \n",
      "68                        4349                        1                    18   \n",
      "27                         375                        1                    19   \n",
      "27                        1261                        0                    19   \n",
      "64                         603                        1                    19   \n",
      "...                        ...                      ...                   ...   \n",
      "32                        5389                        1                    19   \n",
      "51                         555                        1                    19   \n",
      "44                        1151                        0                    19   \n",
      "74                        1302                        0                    18   \n",
      "37                        1638                        1                    19   \n",
      "\n",
      "             %Population that uses borehole of water  %Prevalence of high BLLs  \n",
      "Location-Id                                                                     \n",
      "70                                                20                        10  \n",
      "68                                                26                        16  \n",
      "27                                                23                        11  \n",
      "27                                                16                        16  \n",
      "64                                                24                        16  \n",
      "...                                              ...                       ...  \n",
      "32                                                22                        18  \n",
      "51                                                18                         9  \n",
      "44                                                22                        12  \n",
      "74                                                48                         5  \n",
      "37                                                14                        11  \n",
      "\n",
      "[5000 rows x 5 columns]\n"
     ]
    }
   ],
   "source": [
    "data = pd.read_csv('New_Training_data.csv', index_col=0)\n",
    "print(data)"
   ]
  },
  {
   "cell_type": "markdown",
   "id": "05f7aa84",
   "metadata": {},
   "source": [
    "Defining the feature and target variables\n"
   ]
  },
  {
   "cell_type": "code",
   "execution_count": 6,
   "id": "04522363",
   "metadata": {},
   "outputs": [
    {
     "name": "stdout",
     "output_type": "stream",
     "text": [
      "Training data: (4000, 4)\n",
      "Testing data: (1000, 4)\n",
      "             Number of garages  Presence of open sewage  Number of industries  \\\n",
      "Location-Id                                                                     \n",
      "54                         159                        0                    20   \n",
      "74                        1256                        1                     6   \n",
      "66                         785                        0                    19   \n",
      "70                         364                        0                    18   \n",
      "25                        1061                        1                    19   \n",
      "\n",
      "             %Population that uses borehole of water  \n",
      "Location-Id                                           \n",
      "54                                                50  \n",
      "74                                                20  \n",
      "66                                                33  \n",
      "70                                                18  \n",
      "25                                                19  \n",
      "             Number of garages  Presence of open sewage  Number of industries  \\\n",
      "Location-Id                                                                     \n",
      "31                         572                        1                    20   \n",
      "49                        1181                        0                    19   \n",
      "74                        6235                        1                    17   \n",
      "27                        1670                        1                    20   \n",
      "74                        1693                        1                    13   \n",
      "\n",
      "             %Population that uses borehole of water  \n",
      "Location-Id                                           \n",
      "31                                                28  \n",
      "49                                                12  \n",
      "74                                                20  \n",
      "27                                                22  \n",
      "74                                                26  \n"
     ]
    }
   ],
   "source": [
    "y = data['%Prevalence of high BLLs']\n",
    "X = data.drop('%Prevalence of high BLLs', axis=1)\n",
    "\n",
    "X_train, X_test, y_train, y_test = train_test_split(X, y, test_size=0.2, random_state=1234)\n",
    "\n",
    "print(\"Training data:\", X_train.shape)\n",
    "print(\"Testing data:\", X_test.shape)\n",
    "\n",
    "print(X_train.head())\n",
    "print(X_test.head()) "
   ]
  },
  {
   "cell_type": "code",
   "execution_count": null,
   "id": "fbf8ccac",
   "cell_type": "code",
   "execution_count": null,
   "id": "bd50f83e-6ad9-4ee0-91d3-431dc17c3b74",
   "metadata": {},
   "outputs": [],
   "source": []
  }
 ],
 "metadata": {
  "kernelspec": {
   "display_name": "Python 3 (ipykernel)",
   "language": "python",
   "name": "python3"
  },
  "language_info": {
   "codemirror_mode": {
    "name": "ipython",
    "version": 3
   },
   "file_extension": ".py",
   "mimetype": "text/x-python",
   "name": "python",
   "nbconvert_exporter": "python",
   "pygments_lexer": "ipython3",
   "version": "3.10.12"
  }
 },
 "nbformat": 4,
 "nbformat_minor": 5
}
