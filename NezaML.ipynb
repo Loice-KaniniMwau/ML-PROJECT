{
 "cells": [
  {
   "cell_type": "markdown",
   "id": "7c641017",
   "metadata": {},
   "source": [
    "**Data Splitting"
   ]
  },
  {
   "cell_type": "raw",
   "id": "89bb73f2",
   "metadata": {},
   "source": [
    "Import Statements"
   ]
  },
  {
   "cell_type": "code",
   "execution_count": null,
   "id": "cd729fdc",
   "metadata": {},
   "outputs": [],
   "source": [
    "import pandas as pd\n",
    "from sklearn.model_selection import train_test_split"
   ]
  },
  {
   "cell_type": "code",
   "execution_count": 3,
   "id": "a75a86d6",
   "metadata": {},
   "outputs": [
    {
     "name": "stdout",
     "output_type": "stream",
     "text": [
      "             Number of garages  Presence of open sewage  Number of industries  \\\n",
      "Location-Id                                                                     \n",
      "70                         873                        1                    17   \n",
      "68                        4349                        1                    18   \n",
      "27                         375                        1                    19   \n",
      "27                        1261                        0                    19   \n",
      "64                         603                        1                    19   \n",
      "...                        ...                      ...                   ...   \n",
      "32                        5389                        1                    19   \n",
      "51                         555                        1                    19   \n",
      "44                        1151                        0                    19   \n",
      "74                        1302                        0                    18   \n",
      "37                        1638                        1                    19   \n",
      "\n",
      "             %Population that uses borehole of water  %Prevalence of high BLLs  \n",
      "Location-Id                                                                     \n",
      "70                                                20                        10  \n",
      "68                                                26                        16  \n",
      "27                                                23                        11  \n",
      "27                                                16                        16  \n",
      "64                                                24                        16  \n",
      "...                                              ...                       ...  \n",
      "32                                                22                        18  \n",
      "51                                                18                         9  \n",
      "44                                                22                        12  \n",
      "74                                                48                         5  \n",
      "37                                                14                        11  \n",
      "\n",
      "[5000 rows x 5 columns]\n",
      "Training data: (4000, 4)\n",
      "Testing data: (1000, 4)\n",
      "             Number of garages  Presence of open sewage  Number of industries  \\\n",
      "Location-Id                                                                     \n",
      "54                         159                        0                    20   \n",
      "74                        1256                        1                     6   \n",
      "66                         785                        0                    19   \n",
      "70                         364                        0                    18   \n",
      "25                        1061                        1                    19   \n",
      "\n",
      "             %Population that uses borehole of water  \n",
      "Location-Id                                           \n",
      "54                                                50  \n",
      "74                                                20  \n",
      "66                                                33  \n",
      "70                                                18  \n",
      "25                                                19  \n",
      "             Number of garages  Presence of open sewage  Number of industries  \\\n",
      "Location-Id                                                                     \n",
      "31                         572                        1                    20   \n",
      "49                        1181                        0                    19   \n",
      "74                        6235                        1                    17   \n",
      "27                        1670                        1                    20   \n",
      "74                        1693                        1                    13   \n",
      "\n",
      "             %Population that uses borehole of water  \n",
      "Location-Id                                           \n",
      "31                                                28  \n",
      "49                                                12  \n",
      "74                                                20  \n",
      "27                                                22  \n",
      "74                                                26  \n"
     ]
    }
   ],
   "source": [
    "data = pd.read_csv('New_Training_data.csv')\n",
    "print(data)\n",
    "y = data['%Prevalence of high BLLs']\n",
    "X = data.drop('%Prevalence of high BLLs', axis=1)\n",
    "\n",
    "X_train, X_test, y_train, y_test = train_test_split(X, y, test_size=0.2, random_state=1234)\n",
    "\n",
    "print(\"Training data:\", X_train.shape)\n",
    "print(\"Testing data:\", X_test.shape)\n",
    "\n",
    "print(X_train.head())\n",
    "print(X_test.head())"
   ]
  },
  {
   "cell_type": "code",
   "execution_count": null,
   "id": "ac1ca0c1",
   "metadata": {},
   "outputs": [],
   "source": [
    "print(\"First few rows of the dataset:\")\n",
    "print(data.head())\n",
    "\n",
    "print(\"Summary statistics of the dataset:\")\n",
    "print(data.describe())\n",
    "\n",
    "print(\"Missing values in the dataset:\")\n",
    "print(data.isnull().sum())"
   ]
  },
  {
   "cell_type": "code",
   "execution_count": null,
   "id": "1b8bf045",
   "metadata": {},
   "outputs": [],
   "source": [
    "import seaborn as sns\n",
    "import matplotlib.pyplot as plt\n",
    "\n",
    "# Combining X_train and y_train into a single DataFrame\n",
    "df = pd.concat([X_train, y_train], axis=1)\n",
    "\n",
    "# Created a pair plot\n",
    "sns.pairplot(df, x_vars=X_train.columns, y_vars=['%Prevalence of high BLLs'], kind='scatter', height=2.5)\n",
    "plt.show()"
   ]
  },
  {
   "cell_type": "code",
   "execution_count": null,
   "id": "ea8347a7",
   "metadata": {},
   "outputs": [],
   "source": [
    "selected_features = ['Number of garages', 'Number of industries', '%Population that uses borehole of water', '%Prevalence of high BLLs']\n",
    "\n",
    "selected_data = data[selected_features]\n",
    "correlation_matrix = selected_data.corr()\n",
    "\n",
    "plt.figure(figsize=(10, 8))\n",
    "sns.heatmap(correlation_matrix, annot=True, cmap='coolwarm', fmt=\".2f\")\n",
    "plt.title('Correlation Heatmap')\n",
    "plt.show()"
   ]
  },
  {
   "cell_type": "code",
   "execution_count": null,
   "id": "92ad2f9e",
   "metadata": {},
   "outputs": [],
   "source": [
    "from sklearn.preprocessing import OneHotEncoder\n",
    "import numpy as np\n",
    "import sklearn.preprocessing as preprocessing\n",
    "from sklearn.linear_model import LinearRegression\n",
    "from sklearn.preprocessing import StandardScaler\n",
    "from sklearn.metrics import accuracy_score, classification_report, confusion_matrix\n",
    "import sklearn.datasets as datasets\n",
    "from sklearn.compose import ColumnTransformer\n",
    "from sklearn.pipeline import Pipeline\n",
    "from sklearn.ensemble import RandomForestClassifier\n",
    "from sklearn.model_selection import GridSearchCV"
   ]
  },
  {
   "cell_type": "code",
   "execution_count": null,
   "id": "e12bb226",
   "metadata": {},
   "outputs": [],
   "source": [
    "\n",
    "numerical_cols = X.select_dtypes(include=[np.number]).columns\n",
    "categorical_cols = X.select_dtypes(exclude=[np.number]).columns\n",
    "\n",
    "encoder = OneHotEncoder(drop='first', sparse=False)\n",
    "data_encoded = encoder.fit_transform(X[categorical_cols])\n",
    "encoded_feature_names = encoder.get_feature_names_out(input_features=categorical_cols)\n",
    "\n",
    "data_encoded = pd.DataFrame(data_encoded, columns=encoded_feature_names)\n",
    "\n",
    "numerical_data = X.select_dtypes(include=[np.number])\n",
    "X = pd.concat([numerical_data, data_encoded], axis=1)\n",
    "\n",
    "# Create a pipeline with preprocessing and Random Forest Classifier\n",
    "preprocessor = ColumnTransformer(\n",
    "    transformers=[\n",
    "        ('num', StandardScaler(), numerical_cols)\n",
    "    ])\n",
    "\n",
    "pipeline = Pipeline([\n",
    "    ('preprocessor', preprocessor),\n",
    "    ('classifier', RandomForestClassifier(random_state=123))\n",
    "])\n",
    "\n",
    "# Hyperparameter tuning using GridSearchCV\n",
    "param_grid = {\n",
    "    'classifier__n_estimators': [100, 200, 300],\n",
    "    'classifier__max_depth': [None, 10, 20, 30],\n",
    "    'classifier__min_samples_split': [2, 5, 10],\n",
    "    'classifier__min_samples_leaf': [1, 2, 4]\n",
    "}\n",
    "\n",
    "grid_search = GridSearchCV(pipeline, param_grid, cv=5, scoring='accuracy', n_jobs=-1)\n",
    "grid_search.fit(X_train, y_train)\n",
    "\n",
    "# Get the best model from grid search\n",
    "best_model = grid_search.best_estimator_\n",
    "\n",
    "# Fit the best model on the training data\n",
    "best_model.fit(X_train, y_train)\n",
    "\n",
    "# Predict on the test data\n",
    "y_pred = best_model.predict(X_test)\n",
    "\n",
    "# Evaluate the model\n",
    "accuracy = accuracy_score(y_test, y_pred)\n",
    "conf_matrix = confusion_matrix(y_test, y_pred)\n",
    "class_report = classification_report(y_test, y_pred)\n",
    "\n",
    "print(\"Best Model Parameters:\", grid_search.best_params_)\n",
    "print(\"Accuracy:\", accuracy)\n",
    "print(\"Confusion Matrix:\\n\", conf_matrix)\n",
    "print(\"Classification Report:\\n\", class_report)"
   ]
  },
  {
   "cell_type": "code",
   "execution_count": null,
   "id": "78af54ce",
   "metadata": {},
   "outputs": [],
   "source": []
  }
 ],
 "metadata": {
  "kernelspec": {
   "display_name": "Python 3 (ipykernel)",
   "language": "python",
   "name": "python3"
  },
  "language_info": {
   "codemirror_mode": {
    "name": "ipython",
    "version": 3
   },
   "file_extension": ".py",
   "mimetype": "text/x-python",
   "name": "python",
   "nbconvert_exporter": "python",
   "pygments_lexer": "ipython3",
   "version": "3.10.12"
  }
 },
 "nbformat": 4,
 "nbformat_minor": 5
}
