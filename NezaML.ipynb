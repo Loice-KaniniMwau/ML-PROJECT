{
 "cells": [
  {
   "cell_type": "markdown",
   "id": "2a3a87a2-7060-476c-ad43-0eecbc922ec9",
   "metadata": {},
   "source": [
    "Import Statements"
   ]
  },
  {
   "cell_type": "code",
   "execution_count": null,
   "id": "1d467596-79d7-47de-aa74-3645f070785c",
   "metadata": {},
   "outputs": [],
   "source": [
    "import pandas as pd\n",
    "from sklearn.model_selection import train_test_split"
   ]
  },
  {
   "cell_type": "markdown",
   "id": "60e2d668-8d21-40a0-bacb-08b718489a1c",
   "metadata": {},
   "source": [
    "Loading the Dataset"
   ]
  },
  {
   "cell_type": "code",
   "execution_count": 32,
   "id": "1f459533-5278-4ddb-ba88-87df15e0c8e5",
   "metadata": {},
   "outputs": [
    {
     "name": "stdout",
     "output_type": "stream",
     "text": [
      "         Location  Number of garages  Presence of open sewage  \\\n",
      "0       Hyderabad               4000                        1   \n",
      "1   Visakhapatnam               2000                        1   \n",
      "2      Vijayawada               1500                        1   \n",
      "3        Itanagar                500                        1   \n",
      "4        Guwahati               2500                        0   \n",
      "..            ...                ...                      ...   \n",
      "69       Haridwar                500                        0   \n",
      "70      Rishikesh                200                        0   \n",
      "71        Kolkata               5000                        0   \n",
      "72         Howrah               1500                        0   \n",
      "73       Durgapur               1000                        0   \n",
      "\n",
      "    Number of industries Population that uses borehole of water  \\\n",
      "0                     10                                 22.00%   \n",
      "1                     18                                 22.00%   \n",
      "2                     18                                 22.00%   \n",
      "3                     18                                  4.00%   \n",
      "4                     18                                 32.00%   \n",
      "..                   ...                                    ...   \n",
      "69                     3                                 40.00%   \n",
      "70                    18                                 10.00%   \n",
      "71                    25                                 23.00%   \n",
      "72                    18                                 23.00%   \n",
      "73                    18                                 23.00%   \n",
      "\n",
      "   Prevalence of high BLLs  \n",
      "0                      12%  \n",
      "1                      12%  \n",
      "2                      12%  \n",
      "3                   11.31%  \n",
      "4                      15%  \n",
      "..                     ...  \n",
      "69                     10%  \n",
      "70                     10%  \n",
      "71                     12%  \n",
      "72                     12%  \n",
      "73                     12%  \n",
      "\n",
      "[74 rows x 6 columns]\n"
     ]
    }
   ],
   "source": [
    "data = pd.read_csv('neza_combined_data.csv', index_col=0)\n",
    "print(data)"
   ]
  },
  {
   "cell_type": "markdown",
   "id": "01b67e9a-ec7b-4dbf-bc28-e8f161a74a24",
   "metadata": {},
   "source": [
    "Defining the feature and target variables\n"
   ]
  },
  {
   "cell_type": "code",
   "execution_count": 37,
   "id": "2f54a6eb-419e-4ab6-a9b0-1c8c6d2fdd30",
   "metadata": {},
   "outputs": [
    {
     "name": "stdout",
     "output_type": "stream",
     "text": [
      "Training data: (59, 5)\n",
      "Testing data: (15, 5)\n",
      "      Location  Number of garages  Presence of open sewage  \\\n",
      "69    Haridwar                500                        0   \n",
      "18    Vadodara               2000                        1   \n",
      "70   Rishikesh                200                        0   \n",
      "59  Coimbatore               2000                        1   \n",
      "35   Kozhikode               1000                        1   \n",
      "\n",
      "    Number of industries Population that uses borehole of water  \n",
      "69                     3                                 40.00%  \n",
      "18                     1                                 11.00%  \n",
      "70                    18                                 10.00%  \n",
      "59                    18                                 16.00%  \n",
      "35                     1                                 68.00%  \n",
      "      Location  Number of garages  Presence of open sewage  \\\n",
      "45      Aizawl                200                        0   \n",
      "64    Agartala                500                        0   \n",
      "46      Kohima                200                        0   \n",
      "51  Chandigarh               1500                        1   \n",
      "6        Patna               3000                        1   \n",
      "\n",
      "    Number of industries Population that uses borehole of water  \n",
      "45                    18                                  8.00%  \n",
      "64                    18                                 48.00%  \n",
      "46                    18                                 36.00%  \n",
      "51                    18                                  4.00%  \n",
      "6                     18                                 17.00%  \n"
     ]
    }
   ],
   "source": [
    "y = data['Prevalence of high BLLs']\n",
    "X = data.drop('Prevalence of high BLLs', axis=1)\n",
    "\n",
    "X_train, X_test, y_train, y_test = train_test_split(X, y, test_size=0.2, random_state=1234)\n",
    "\n",
    "print(\"Training data:\", X_train.shape)\n",
    "print(\"Testing data:\", X_test.shape)\n",
    "\n",
    "print(X_train.head())\n",
    "print(X_test.head()) "
   ]
  },
  {
   "cell_type": "code",
   "execution_count": null,
   "id": "40160024-c379-4f70-8175-5e8ec528fafd",
   "metadata": {},
   "outputs": [],
   "source": []
  }
 ],
 "metadata": {
  "kernelspec": {
   "display_name": "Python 3 (ipykernel)",
   "language": "python",
   "name": "python3"
  },
  "language_info": {
   "codemirror_mode": {
    "name": "ipython",
    "version": 3
   },
   "file_extension": ".py",
   "mimetype": "text/x-python",
   "name": "python",
   "nbconvert_exporter": "python",
   "pygments_lexer": "ipython3",
   "version": "3.10.12"
  }
 },
 "nbformat": 4,
 "nbformat_minor": 5
}
