{
 "cells": [
  {
   "cell_type": "code",
   "execution_count": 2,
   "id": "0a67076e-0e91-40b8-bcb4-8062c85d1f48",
   "metadata": {},
   "outputs": [
    {
     "data": {
      "text/plain": [
       "'/home/oem/Neza-ML-Model'"
      ]
     },
     "execution_count": 2,
     "metadata": {},
     "output_type": "execute_result"
    }
   ],
   "source": [
    "import os\n",
    "os.getcwd()"
   ]
  },
  {
   "cell_type": "code",
   "execution_count": 11,
   "id": "89920f15-a715-48ea-aef6-d560a212b9fb",
   "metadata": {},
   "outputs": [
    {
     "name": "stdout",
     "output_type": "stream",
     "text": [
      "Defaulting to user installation because normal site-packages is not writeable\n",
      "Requirement already satisfied: pandas in /home/oem/.local/lib/python3.10/site-packages (2.1.1)\n",
      "Requirement already satisfied: python-dateutil>=2.8.2 in /usr/local/lib/python3.10/dist-packages (from pandas) (2.8.2)\n",
      "Requirement already satisfied: pytz>=2020.1 in /home/oem/.local/lib/python3.10/site-packages (from pandas) (2023.3.post1)\n",
      "Requirement already satisfied: numpy>=1.22.4 in /home/oem/.local/lib/python3.10/site-packages (from pandas) (1.24.3)\n",
      "Requirement already satisfied: tzdata>=2022.1 in /home/oem/.local/lib/python3.10/site-packages (from pandas) (2023.3)\n",
      "Requirement already satisfied: six>=1.5 in /usr/lib/python3/dist-packages (from python-dateutil>=2.8.2->pandas) (1.16.0)\n",
      "Defaulting to user installation because normal site-packages is not writeable\n",
      "Requirement already satisfied: scikit-learn in /home/oem/.local/lib/python3.10/site-packages (1.3.1)\n",
      "Requirement already satisfied: joblib>=1.1.1 in /home/oem/.local/lib/python3.10/site-packages (from scikit-learn) (1.3.2)\n",
      "Requirement already satisfied: threadpoolctl>=2.0.0 in /home/oem/.local/lib/python3.10/site-packages (from scikit-learn) (3.2.0)\n",
      "Requirement already satisfied: scipy>=1.5.0 in /home/oem/.local/lib/python3.10/site-packages (from scikit-learn) (1.11.2)\n",
      "Requirement already satisfied: numpy<2.0,>=1.17.3 in /home/oem/.local/lib/python3.10/site-packages (from scikit-learn) (1.24.3)\n",
      "Train data shape: (4000, 8)\n",
      "Test data shape: (1000, 8)\n"
     ]
    }
   ],
   "source": [
    "!pip install pandas\n",
    "!pip install scikit-learn\n"
   ]
  },
  {
   "cell_type": "code",
   "execution_count": 15,
   "id": "f04d1647-89cb-4b1e-9a61-d0a40b71c50b",
   "metadata": {},
   "outputs": [
    {
     "name": "stdout",
     "output_type": "stream",
     "text": [
      "Train data shape: (4000, 6)\n",
      "Test data shape: (1000, 6)\n"
     ]
    }
   ],
   "source": [
    "import pandas as pd\n",
    "\n",
    "data = pd.read_csv('Neza_cleaned1.csv')\n",
    "\n",
    "from sklearn.model_selection import train_test_split\n",
    "\n",
    "train_data, test_data = train_test_split(data, test_size=0.2, random_state=42)\n",
    "\n",
    "print('Train data shape:', train_data.shape)\n",
    "print('Test data shape:' , test_data.shape)"
   ]
  },
  {
   "cell_type": "code",
   "execution_count": null,
   "id": "bca3635a",
   "metadata": {},
   "outputs": [],
   "source": []
  },
  {
   "cell_type": "code",
   "execution_count": 16,
   "id": "2ab84d3e-fbe4-4ef3-b71f-8ad427ccf6a7",
   "metadata": {},
   "outputs": [
    {
     "data": {
      "text/html": [
       "<div>\n",
       "<style scoped>\n",
       "    .dataframe tbody tr th:only-of-type {\n",
       "        vertical-align: middle;\n",
       "    }\n",
       "\n",
       "    .dataframe tbody tr th {\n",
       "        vertical-align: top;\n",
       "    }\n",
       "\n",
       "    .dataframe thead th {\n",
       "        text-align: right;\n",
       "    }\n",
       "</style>\n",
       "<table border=\"1\" class=\"dataframe\">\n",
       "  <thead>\n",
       "    <tr style=\"text-align: right;\">\n",
       "      <th></th>\n",
       "      <th>Unnamed: 0</th>\n",
       "      <th>Wards in Nairobi</th>\n",
       "      <th>Number of scrap dealers</th>\n",
       "      <th>Presence of open sewage</th>\n",
       "      <th>Sources of water(Borehole)</th>\n",
       "      <th>no. of Industries</th>\n",
       "    </tr>\n",
       "  </thead>\n",
       "  <tbody>\n",
       "    <tr>\n",
       "      <th>4227</th>\n",
       "      <td>4229</td>\n",
       "      <td>Dandora Area III</td>\n",
       "      <td>\"24</td>\n",
       "      <td>000\"</td>\n",
       "      <td>39</td>\n",
       "      <td>0</td>\n",
       "    </tr>\n",
       "    <tr>\n",
       "      <th>4676</th>\n",
       "      <td>4678</td>\n",
       "      <td>Umoja II</td>\n",
       "      <td>\"16</td>\n",
       "      <td>000\"</td>\n",
       "      <td>102</td>\n",
       "      <td>1</td>\n",
       "    </tr>\n",
       "    <tr>\n",
       "      <th>800</th>\n",
       "      <td>802</td>\n",
       "      <td>Harambee</td>\n",
       "      <td>\"21</td>\n",
       "      <td>000\"</td>\n",
       "      <td>58</td>\n",
       "      <td>0</td>\n",
       "    </tr>\n",
       "    <tr>\n",
       "      <th>3671</th>\n",
       "      <td>3673</td>\n",
       "      <td>Parklands/Highridge</td>\n",
       "      <td>\"19</td>\n",
       "      <td>000\"</td>\n",
       "      <td>91</td>\n",
       "      <td>0</td>\n",
       "    </tr>\n",
       "    <tr>\n",
       "      <th>4193</th>\n",
       "      <td>4195</td>\n",
       "      <td>Komarock</td>\n",
       "      <td>\"20</td>\n",
       "      <td>000\"</td>\n",
       "      <td>44</td>\n",
       "      <td>0</td>\n",
       "    </tr>\n",
       "  </tbody>\n",
       "</table>\n",
       "</div>"
      ],
      "text/plain": [
       "      Unnamed: 0     Wards in Nairobi Number of scrap dealers  \\\n",
       "4227        4229     Dandora Area III                     \"24   \n",
       "4676        4678             Umoja II                     \"16   \n",
       "800          802             Harambee                     \"21   \n",
       "3671        3673  Parklands/Highridge                     \"19   \n",
       "4193        4195             Komarock                     \"20   \n",
       "\n",
       "     Presence of open sewage  Sources of water(Borehole)  no. of Industries  \n",
       "4227                    000\"                          39                  0  \n",
       "4676                    000\"                         102                  1  \n",
       "800                     000\"                          58                  0  \n",
       "3671                    000\"                          91                  0  \n",
       "4193                    000\"                          44                  0  "
      ]
     },
     "execution_count": 16,
     "metadata": {},
     "output_type": "execute_result"
    }
   ],
   "source": [
    "train_data.head()"
   ]
  },
  {
   "cell_type": "code",
   "execution_count": 17,
   "id": "777a6536-9f71-445f-9d37-33eb2ff4e7a2",
   "metadata": {},
   "outputs": [
    {
     "data": {
      "text/html": [
       "<div>\n",
       "<style scoped>\n",
       "    .dataframe tbody tr th:only-of-type {\n",
       "        vertical-align: middle;\n",
       "    }\n",
       "\n",
       "    .dataframe tbody tr th {\n",
       "        vertical-align: top;\n",
       "    }\n",
       "\n",
       "    .dataframe thead th {\n",
       "        text-align: right;\n",
       "    }\n",
       "</style>\n",
       "<table border=\"1\" class=\"dataframe\">\n",
       "  <thead>\n",
       "    <tr style=\"text-align: right;\">\n",
       "      <th></th>\n",
       "      <th>Unnamed: 0</th>\n",
       "      <th>Wards in Nairobi</th>\n",
       "      <th>Number of scrap dealers</th>\n",
       "      <th>Presence of open sewage</th>\n",
       "      <th>Sources of water(Borehole)</th>\n",
       "      <th>no. of Industries</th>\n",
       "    </tr>\n",
       "  </thead>\n",
       "  <tbody>\n",
       "    <tr>\n",
       "      <th>1501</th>\n",
       "      <td>1503</td>\n",
       "      <td>Mwiki</td>\n",
       "      <td>\"48</td>\n",
       "      <td>997\"</td>\n",
       "      <td>56</td>\n",
       "      <td>0</td>\n",
       "    </tr>\n",
       "    <tr>\n",
       "      <th>2586</th>\n",
       "      <td>2588</td>\n",
       "      <td>Njiru</td>\n",
       "      <td>\"109</td>\n",
       "      <td>890\"</td>\n",
       "      <td>88</td>\n",
       "      <td>1</td>\n",
       "    </tr>\n",
       "    <tr>\n",
       "      <th>2653</th>\n",
       "      <td>2655</td>\n",
       "      <td>Utalii</td>\n",
       "      <td>\"52</td>\n",
       "      <td>500\"</td>\n",
       "      <td>46</td>\n",
       "      <td>1</td>\n",
       "    </tr>\n",
       "    <tr>\n",
       "      <th>1055</th>\n",
       "      <td>1057</td>\n",
       "      <td>Harambee</td>\n",
       "      <td>\"36</td>\n",
       "      <td>037\"</td>\n",
       "      <td>29</td>\n",
       "      <td>0</td>\n",
       "    </tr>\n",
       "    <tr>\n",
       "      <th>705</th>\n",
       "      <td>707</td>\n",
       "      <td>Uthiru/Ruthi</td>\n",
       "      <td>\"42</td>\n",
       "      <td>600\"</td>\n",
       "      <td>72</td>\n",
       "      <td>1</td>\n",
       "    </tr>\n",
       "  </tbody>\n",
       "</table>\n",
       "</div>"
      ],
      "text/plain": [
       "      Unnamed: 0 Wards in Nairobi Number of scrap dealers  \\\n",
       "1501        1503            Mwiki                     \"48   \n",
       "2586        2588            Njiru                    \"109   \n",
       "2653        2655           Utalii                     \"52   \n",
       "1055        1057         Harambee                     \"36   \n",
       "705          707     Uthiru/Ruthi                     \"42   \n",
       "\n",
       "     Presence of open sewage  Sources of water(Borehole)  no. of Industries  \n",
       "1501                    997\"                          56                  0  \n",
       "2586                    890\"                          88                  1  \n",
       "2653                    500\"                          46                  1  \n",
       "1055                    037\"                          29                  0  \n",
       "705                     600\"                          72                  1  "
      ]
     },
     "execution_count": 17,
     "metadata": {},
     "output_type": "execute_result"
    }
   ],
   "source": [
    "test_data.head()"
   ]
  },
  {
   "cell_type": "code",
   "execution_count": null,
   "id": "9855d24d-01e6-4822-9619-85ca183f720d",
   "metadata": {},
   "outputs": [],
   "source": []
  },
  {
   "cell_type": "code",
   "execution_count": null,
   "id": "e631b8ff-ab57-4e9f-9abd-7e9c164c9aac",
   "metadata": {},
   "outputs": [],
   "source": []
  }
 ],
 "metadata": {
  "kernelspec": {
   "display_name": "Python 3 (ipykernel)",
   "language": "python",
   "name": "python3"
  },
  "language_info": {
   "codemirror_mode": {
    "name": "ipython",
    "version": 3
   },
   "file_extension": ".py",
   "mimetype": "text/x-python",
   "name": "python",
   "nbconvert_exporter": "python",
   "pygments_lexer": "ipython3",
   "version": "3.10.12"
  }
 },
 "nbformat": 4,
 "nbformat_minor": 5
}
